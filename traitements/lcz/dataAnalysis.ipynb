{
 "cells": [
  {
   "cell_type": "markdown",
   "metadata": {},
   "source": [
    "# Script de visualisation des données"
   ]
  },
  {
   "cell_type": "markdown",
   "metadata": {
    "vscode": {
     "languageId": "plaintext"
    }
   },
   "source": [
    "## Quelles sont les territoires les plus exposés ?\n",
    "Analyse par : \n",
    "- Commune\n",
    "- Interco\n",
    "- PLUi/SCOT\n",
    "- QPV"
   ]
  },
  {
   "cell_type": "markdown",
   "metadata": {},
   "source": [
    "Typologie de commune ?"
   ]
  },
  {
   "cell_type": "markdown",
   "metadata": {
    "vscode": {
     "languageId": "plaintext"
    }
   },
   "source": [
    "## Quelles sont les caractéristiques sociales des zones les plus impactés ?\n",
    "- Quelle nombre de personnes habite dans les LCZ les plus exposées ?\n",
    "- Quelle moyenne d'âge ?\n",
    "- Quel niveau de revenus moyen ?\n",
    "- Quelle différence avec les autres LCZ ?"
   ]
  },
  {
   "cell_type": "markdown",
   "metadata": {
    "vscode": {
     "languageId": "plaintext"
    }
   },
   "source": [
    "## Quelle est la probabilité d'être exposé selon son statut :\n",
    "- propriétaire / locataire\n",
    "- taille du ménage\n",
    "- niveau de vie moyen du ménage dans le carreau\n",
    "\n",
    "\n",
    "Analyse de sensibilité à partir de l'IRIS"
   ]
  },
  {
   "cell_type": "markdown",
   "metadata": {
    "vscode": {
     "languageId": "plaintext"
    }
   },
   "source": [
    "## Quelle est l'évolution du niveau de vie dans les lieux les plus exposés ?\n",
    "Idéalement regarder depuis 2003 / Voir pour des RDD ?"
   ]
  },
  {
   "cell_type": "markdown",
   "metadata": {
    "vscode": {
     "languageId": "plaintext"
    }
   },
   "source": [
    "## Quelle est la nature des bâtiments dans les zones exposées ? \n",
    "- Âge\n",
    "- DPE\n",
    "- Usage résidentiel / tertiaire ?"
   ]
  }
 ],
 "metadata": {
  "language_info": {
   "name": "python"
  }
 },
 "nbformat": 4,
 "nbformat_minor": 2
}
