{
 "cells": [
  {
   "cell_type": "markdown",
   "metadata": {},
   "source": [
    "# Fichier de nettoyage des données avant leur analyse"
   ]
  },
  {
   "cell_type": "code",
   "execution_count": 1,
   "metadata": {},
   "outputs": [
    {
     "name": "stderr",
     "output_type": "stream",
     "text": [
      "/var/folders/pl/xywgn7qd4sv_s094vn5h3dtr0000gn/T/ipykernel_91391/767398250.py:4: UserWarning: pygeos support was removed in 1.0. geopandas.use_pygeos is a no-op and will be removed in geopandas 1.1.\n",
      "  gpd.options.use_pygeos = True\n"
     ]
    }
   ],
   "source": [
    "import os\n",
    "import pandas as pd\n",
    "import geopandas as gpd\n",
    "gpd.options.use_pygeos = True\n",
    "\n",
    "# Set the working directory\n",
    "download_dir = \"../../RAW\"\n",
    "prod_dir = \"../../PROD\""
   ]
  },
  {
   "cell_type": "markdown",
   "metadata": {},
   "source": [
    "## Nettoyage des données LCZ"
   ]
  },
  {
   "cell_type": "code",
   "execution_count": 2,
   "metadata": {},
   "outputs": [],
   "source": [
    "# Import des données LCZ\n",
    "subfold_lcz = \"LCZ\"\n",
    "\n",
    "# La liste théorique des fichiers à télécharger\n",
    "to_download = pd.read_csv(os.path.join(download_dir, subfold_lcz, \"to_download.csv\"))\n",
    "to_download[\"title_clean\"] = to_download[\"title\"].str.replace(\".zip\", \"\")\n",
    "\n",
    "# Ce qui est dans le dossier LCZ\n",
    "actually_downloaded = os.listdir(os.path.join(download_dir, subfold_lcz))\n",
    "\n",
    "# Ce qui est téléchargé\n",
    "lcz_folders = [f for f in actually_downloaded if f in to_download[\"title_clean\"].values]    \n",
    "\n",
    "# Le fichier des communes\n",
    "communes = gpd.read_file(os.path.join(prod_dir, \"geo/admin\", \"communes_2024.shp\"))\n",
    "communes = communes[[\"label\", \"official_c\", \"geometry\"]]\n",
    "\n",
    "\n",
    "# On charge les données FILOSOFI\n",
    "subfold_filosofi = \"INSEE/FILOSOFI/2019/CARREAUX_200M\"\n",
    "filosofi = gpd.read_file(os.path.join(download_dir, subfold_filosofi, \"carreaux_200m_met.shp\"))\n",
    "\n",
    "\n",
    "\n",
    "# On crée une fonction pour calculer les données pondérées\n",
    "def weighted_filo(datbase, weight_col, values_col):\n",
    "    copy = datbase.copy()\n",
    "    for value_col in values_col:\n",
    "        copy[value_col+\"_w\"] = copy[weight_col] * copy[value_col]\n",
    "    return copy\n",
    "\n",
    "os.makedirs(os.path.join(prod_dir, \"geo/lcz/filo_com\"), exist_ok=True)"
   ]
  },
  {
   "cell_type": "code",
   "execution_count": 7,
   "metadata": {},
   "outputs": [
    {
     "name": "stdout",
     "output_type": "stream",
     "text": [
      "Traitement de la zone  lcz-spot-2022-le-havre ( 1 / 83 )\n"
     ]
    },
    {
     "name": "stderr",
     "output_type": "stream",
     "text": [
      "/var/folders/pl/xywgn7qd4sv_s094vn5h3dtr0000gn/T/ipykernel_91391/1438938172.py:173: FutureWarning: The behavior of DataFrame concatenation with empty or all-NA entries is deprecated. In a future version, this will no longer exclude empty or all-NA columns when determining the result dtypes. To retain the old behavior, exclude the relevant entries before the concat operation.\n",
      "  summary_tot_lcz_filo_flat = pd.concat([summary_tot_lcz_filo_flat, summary_lcz_filo_flat])\n",
      "/var/folders/pl/xywgn7qd4sv_s094vn5h3dtr0000gn/T/ipykernel_91391/1438938172.py:200: FutureWarning: The behavior of DataFrame concatenation with empty or all-NA entries is deprecated. In a future version, this will no longer exclude empty or all-NA columns when determining the result dtypes. To retain the old behavior, exclude the relevant entries before the concat operation.\n",
      "  summary_tot_lcz_filo_psdovol = pd.concat([summary_tot_lcz_filo_psdovol, summary_lcz_filo_psdovol])\n"
     ]
    },
    {
     "name": "stdout",
     "output_type": "stream",
     "text": [
      "Traitement de la zone  lcz-spot-2022-quimper ( 2 / 83 )\n"
     ]
    },
    {
     "name": "stderr",
     "output_type": "stream",
     "text": [
      "/var/folders/pl/xywgn7qd4sv_s094vn5h3dtr0000gn/T/ipykernel_91391/1438938172.py:74: UserWarning: `keep_geom_type=True` in overlay resulted in 3 dropped geometries of different geometry types than df1 has. Set `keep_geom_type=False` to retain all geometries\n",
      "  filo_lcz = gpd.overlay(gdf_com.filter(\n"
     ]
    },
    {
     "name": "stdout",
     "output_type": "stream",
     "text": [
      "Traitement de la zone  lcz-spot-2022-grenoble ( 3 / 83 )\n"
     ]
    },
    {
     "name": "stderr",
     "output_type": "stream",
     "text": [
      "/var/folders/pl/xywgn7qd4sv_s094vn5h3dtr0000gn/T/ipykernel_91391/1438938172.py:74: UserWarning: `keep_geom_type=True` in overlay resulted in 22 dropped geometries of different geometry types than df1 has. Set `keep_geom_type=False` to retain all geometries\n",
      "  filo_lcz = gpd.overlay(gdf_com.filter(\n"
     ]
    },
    {
     "name": "stdout",
     "output_type": "stream",
     "text": [
      "Traitement de la zone  lcz-spot-2022-saint-etienne ( 4 / 83 )\n"
     ]
    },
    {
     "name": "stderr",
     "output_type": "stream",
     "text": [
      "/var/folders/pl/xywgn7qd4sv_s094vn5h3dtr0000gn/T/ipykernel_91391/1438938172.py:74: UserWarning: `keep_geom_type=True` in overlay resulted in 24 dropped geometries of different geometry types than df1 has. Set `keep_geom_type=False` to retain all geometries\n",
      "  filo_lcz = gpd.overlay(gdf_com.filter(\n"
     ]
    },
    {
     "name": "stdout",
     "output_type": "stream",
     "text": [
      "Traitement de la zone  lcz-spot-2022-lens-lievin ( 5 / 83 )\n"
     ]
    },
    {
     "name": "stderr",
     "output_type": "stream",
     "text": [
      "/var/folders/pl/xywgn7qd4sv_s094vn5h3dtr0000gn/T/ipykernel_91391/1438938172.py:74: UserWarning: `keep_geom_type=True` in overlay resulted in 10 dropped geometries of different geometry types than df1 has. Set `keep_geom_type=False` to retain all geometries\n",
      "  filo_lcz = gpd.overlay(gdf_com.filter(\n"
     ]
    },
    {
     "name": "stdout",
     "output_type": "stream",
     "text": [
      "Traitement de la zone  lcz-spot-2022-saint-brieuc ( 6 / 83 )\n"
     ]
    },
    {
     "name": "stderr",
     "output_type": "stream",
     "text": [
      "/var/folders/pl/xywgn7qd4sv_s094vn5h3dtr0000gn/T/ipykernel_91391/1438938172.py:74: UserWarning: `keep_geom_type=True` in overlay resulted in 2 dropped geometries of different geometry types than df1 has. Set `keep_geom_type=False` to retain all geometries\n",
      "  filo_lcz = gpd.overlay(gdf_com.filter(\n"
     ]
    },
    {
     "name": "stdout",
     "output_type": "stream",
     "text": [
      "Traitement de la zone  lcz-spot-2022-mulhouse ( 7 / 83 )\n"
     ]
    },
    {
     "name": "stderr",
     "output_type": "stream",
     "text": [
      "/var/folders/pl/xywgn7qd4sv_s094vn5h3dtr0000gn/T/ipykernel_91391/1438938172.py:74: UserWarning: `keep_geom_type=True` in overlay resulted in 7 dropped geometries of different geometry types than df1 has. Set `keep_geom_type=False` to retain all geometries\n",
      "  filo_lcz = gpd.overlay(gdf_com.filter(\n"
     ]
    },
    {
     "name": "stdout",
     "output_type": "stream",
     "text": [
      "Traitement de la zone  lcz-spot-2022-beauvais ( 8 / 83 )\n"
     ]
    },
    {
     "name": "stderr",
     "output_type": "stream",
     "text": [
      "/var/folders/pl/xywgn7qd4sv_s094vn5h3dtr0000gn/T/ipykernel_91391/1438938172.py:74: UserWarning: `keep_geom_type=True` in overlay resulted in 7 dropped geometries of different geometry types than df1 has. Set `keep_geom_type=False` to retain all geometries\n",
      "  filo_lcz = gpd.overlay(gdf_com.filter(\n"
     ]
    },
    {
     "name": "stdout",
     "output_type": "stream",
     "text": [
      "Traitement de la zone  lcz-spot-2022-bordeaux ( 9 / 83 )\n"
     ]
    },
    {
     "name": "stderr",
     "output_type": "stream",
     "text": [
      "/var/folders/pl/xywgn7qd4sv_s094vn5h3dtr0000gn/T/ipykernel_91391/1438938172.py:74: UserWarning: `keep_geom_type=True` in overlay resulted in 12 dropped geometries of different geometry types than df1 has. Set `keep_geom_type=False` to retain all geometries\n",
      "  filo_lcz = gpd.overlay(gdf_com.filter(\n"
     ]
    },
    {
     "name": "stdout",
     "output_type": "stream",
     "text": [
      "Traitement de la zone  lcz-spot-2022-evreux ( 10 / 83 )\n"
     ]
    },
    {
     "name": "stderr",
     "output_type": "stream",
     "text": [
      "/var/folders/pl/xywgn7qd4sv_s094vn5h3dtr0000gn/T/ipykernel_91391/1438938172.py:74: UserWarning: `keep_geom_type=True` in overlay resulted in 3 dropped geometries of different geometry types than df1 has. Set `keep_geom_type=False` to retain all geometries\n",
      "  filo_lcz = gpd.overlay(gdf_com.filter(\n"
     ]
    },
    {
     "name": "stdout",
     "output_type": "stream",
     "text": [
      "Traitement de la zone  lcz-spot-2022-amiens ( 11 / 83 )\n"
     ]
    },
    {
     "name": "stderr",
     "output_type": "stream",
     "text": [
      "/var/folders/pl/xywgn7qd4sv_s094vn5h3dtr0000gn/T/ipykernel_91391/1438938172.py:74: UserWarning: `keep_geom_type=True` in overlay resulted in 9 dropped geometries of different geometry types than df1 has. Set `keep_geom_type=False` to retain all geometries\n",
      "  filo_lcz = gpd.overlay(gdf_com.filter(\n"
     ]
    },
    {
     "name": "stdout",
     "output_type": "stream",
     "text": [
      "Traitement de la zone  lcz-spot-2022-annecy ( 12 / 83 )\n",
      "Traitement de la zone  lcz-spot-2022-angers ( 13 / 83 )\n",
      "Traitement de la zone  lcz-spot-2022-nancy ( 14 / 83 )\n"
     ]
    },
    {
     "name": "stderr",
     "output_type": "stream",
     "text": [
      "/var/folders/pl/xywgn7qd4sv_s094vn5h3dtr0000gn/T/ipykernel_91391/1438938172.py:74: UserWarning: `keep_geom_type=True` in overlay resulted in 3 dropped geometries of different geometry types than df1 has. Set `keep_geom_type=False` to retain all geometries\n",
      "  filo_lcz = gpd.overlay(gdf_com.filter(\n"
     ]
    },
    {
     "name": "stdout",
     "output_type": "stream",
     "text": [
      "Traitement de la zone  lcz-spot-2022-albi ( 15 / 83 )\n"
     ]
    },
    {
     "name": "stderr",
     "output_type": "stream",
     "text": [
      "/var/folders/pl/xywgn7qd4sv_s094vn5h3dtr0000gn/T/ipykernel_91391/1438938172.py:74: UserWarning: `keep_geom_type=True` in overlay resulted in 2 dropped geometries of different geometry types than df1 has. Set `keep_geom_type=False` to retain all geometries\n",
      "  filo_lcz = gpd.overlay(gdf_com.filter(\n"
     ]
    },
    {
     "name": "stdout",
     "output_type": "stream",
     "text": [
      "Traitement de la zone  lcz-spot-2022-orleans ( 16 / 83 )\n"
     ]
    },
    {
     "name": "stderr",
     "output_type": "stream",
     "text": [
      "/var/folders/pl/xywgn7qd4sv_s094vn5h3dtr0000gn/T/ipykernel_91391/1438938172.py:74: UserWarning: `keep_geom_type=True` in overlay resulted in 2 dropped geometries of different geometry types than df1 has. Set `keep_geom_type=False` to retain all geometries\n",
      "  filo_lcz = gpd.overlay(gdf_com.filter(\n"
     ]
    },
    {
     "name": "stdout",
     "output_type": "stream",
     "text": [
      "Traitement de la zone  lcz-spot-2022-le-mans ( 17 / 83 )\n"
     ]
    },
    {
     "name": "stderr",
     "output_type": "stream",
     "text": [
      "/var/folders/pl/xywgn7qd4sv_s094vn5h3dtr0000gn/T/ipykernel_91391/1438938172.py:74: UserWarning: `keep_geom_type=True` in overlay resulted in 3 dropped geometries of different geometry types than df1 has. Set `keep_geom_type=False` to retain all geometries\n",
      "  filo_lcz = gpd.overlay(gdf_com.filter(\n"
     ]
    },
    {
     "name": "stdout",
     "output_type": "stream",
     "text": [
      "Traitement de la zone  lcz-spot-2022-brest ( 18 / 83 )\n"
     ]
    },
    {
     "name": "stderr",
     "output_type": "stream",
     "text": [
      "/var/folders/pl/xywgn7qd4sv_s094vn5h3dtr0000gn/T/ipykernel_91391/1438938172.py:74: UserWarning: `keep_geom_type=True` in overlay resulted in 8 dropped geometries of different geometry types than df1 has. Set `keep_geom_type=False` to retain all geometries\n",
      "  filo_lcz = gpd.overlay(gdf_com.filter(\n"
     ]
    },
    {
     "name": "stdout",
     "output_type": "stream",
     "text": [
      "Traitement de la zone  lcz-spot-2022-ajaccio ( 19 / 83 )\n",
      "Traitement de la zone  lcz-spot-2022-tours ( 20 / 83 )\n"
     ]
    },
    {
     "name": "stderr",
     "output_type": "stream",
     "text": [
      "/var/folders/pl/xywgn7qd4sv_s094vn5h3dtr0000gn/T/ipykernel_91391/1438938172.py:74: UserWarning: `keep_geom_type=True` in overlay resulted in 3 dropped geometries of different geometry types than df1 has. Set `keep_geom_type=False` to retain all geometries\n",
      "  filo_lcz = gpd.overlay(gdf_com.filter(\n"
     ]
    },
    {
     "name": "stdout",
     "output_type": "stream",
     "text": [
      "Traitement de la zone  lcz-spot-2022-reims ( 21 / 83 )\n"
     ]
    },
    {
     "name": "stderr",
     "output_type": "stream",
     "text": [
      "/var/folders/pl/xywgn7qd4sv_s094vn5h3dtr0000gn/T/ipykernel_91391/1438938172.py:74: UserWarning: `keep_geom_type=True` in overlay resulted in 1 dropped geometries of different geometry types than df1 has. Set `keep_geom_type=False` to retain all geometries\n",
      "  filo_lcz = gpd.overlay(gdf_com.filter(\n"
     ]
    },
    {
     "name": "stdout",
     "output_type": "stream",
     "text": [
      "Traitement de la zone  lcz-spot-2022-annemasse ( 22 / 83 )\n",
      "Traitement de la zone  lcz-spot-2022-brive-la-gaillarde ( 23 / 83 )\n"
     ]
    },
    {
     "name": "stderr",
     "output_type": "stream",
     "text": [
      "/var/folders/pl/xywgn7qd4sv_s094vn5h3dtr0000gn/T/ipykernel_91391/1438938172.py:74: UserWarning: `keep_geom_type=True` in overlay resulted in 2 dropped geometries of different geometry types than df1 has. Set `keep_geom_type=False` to retain all geometries\n",
      "  filo_lcz = gpd.overlay(gdf_com.filter(\n"
     ]
    },
    {
     "name": "stdout",
     "output_type": "stream",
     "text": [
      "Traitement de la zone  lcz-spot-2022-martigues ( 24 / 83 )\n"
     ]
    },
    {
     "name": "stderr",
     "output_type": "stream",
     "text": [
      "/var/folders/pl/xywgn7qd4sv_s094vn5h3dtr0000gn/T/ipykernel_91391/1438938172.py:74: UserWarning: `keep_geom_type=True` in overlay resulted in 1 dropped geometries of different geometry types than df1 has. Set `keep_geom_type=False` to retain all geometries\n",
      "  filo_lcz = gpd.overlay(gdf_com.filter(\n"
     ]
    },
    {
     "name": "stdout",
     "output_type": "stream",
     "text": [
      "Traitement de la zone  lcz-spot-2022-calais ( 25 / 83 )\n",
      "Traitement de la zone  lcz-spot-2022-chalon-sur-saone ( 26 / 83 )\n",
      "Traitement de la zone  lcz-spot-2022-montbeliard ( 27 / 83 )\n"
     ]
    },
    {
     "name": "stderr",
     "output_type": "stream",
     "text": [
      "/var/folders/pl/xywgn7qd4sv_s094vn5h3dtr0000gn/T/ipykernel_91391/1438938172.py:74: UserWarning: `keep_geom_type=True` in overlay resulted in 10 dropped geometries of different geometry types than df1 has. Set `keep_geom_type=False` to retain all geometries\n",
      "  filo_lcz = gpd.overlay(gdf_com.filter(\n"
     ]
    },
    {
     "name": "stdout",
     "output_type": "stream",
     "text": [
      "Traitement de la zone  lcz-spot-2022-montpellier ( 28 / 83 )\n"
     ]
    },
    {
     "name": "stderr",
     "output_type": "stream",
     "text": [
      "/var/folders/pl/xywgn7qd4sv_s094vn5h3dtr0000gn/T/ipykernel_91391/1438938172.py:74: UserWarning: `keep_geom_type=True` in overlay resulted in 26 dropped geometries of different geometry types than df1 has. Set `keep_geom_type=False` to retain all geometries\n",
      "  filo_lcz = gpd.overlay(gdf_com.filter(\n"
     ]
    },
    {
     "name": "stdout",
     "output_type": "stream",
     "text": [
      "Traitement de la zone  lcz-spot-2022-angouleme ( 29 / 83 )\n"
     ]
    },
    {
     "name": "stderr",
     "output_type": "stream",
     "text": [
      "/var/folders/pl/xywgn7qd4sv_s094vn5h3dtr0000gn/T/ipykernel_91391/1438938172.py:74: UserWarning: `keep_geom_type=True` in overlay resulted in 4 dropped geometries of different geometry types than df1 has. Set `keep_geom_type=False` to retain all geometries\n",
      "  filo_lcz = gpd.overlay(gdf_com.filter(\n"
     ]
    },
    {
     "name": "stdout",
     "output_type": "stream",
     "text": [
      "Traitement de la zone  lcz-spot-2022-strasbourg ( 30 / 83 )\n"
     ]
    },
    {
     "name": "stderr",
     "output_type": "stream",
     "text": [
      "/var/folders/pl/xywgn7qd4sv_s094vn5h3dtr0000gn/T/ipykernel_91391/1438938172.py:74: UserWarning: `keep_geom_type=True` in overlay resulted in 14 dropped geometries of different geometry types than df1 has. Set `keep_geom_type=False` to retain all geometries\n",
      "  filo_lcz = gpd.overlay(gdf_com.filter(\n"
     ]
    },
    {
     "name": "stdout",
     "output_type": "stream",
     "text": [
      "Traitement de la zone  lcz-spot-2022-valence ( 31 / 83 )\n"
     ]
    },
    {
     "name": "stderr",
     "output_type": "stream",
     "text": [
      "/var/folders/pl/xywgn7qd4sv_s094vn5h3dtr0000gn/T/ipykernel_91391/1438938172.py:74: UserWarning: `keep_geom_type=True` in overlay resulted in 5 dropped geometries of different geometry types than df1 has. Set `keep_geom_type=False` to retain all geometries\n",
      "  filo_lcz = gpd.overlay(gdf_com.filter(\n"
     ]
    },
    {
     "name": "stdout",
     "output_type": "stream",
     "text": [
      "Traitement de la zone  lcz-spot-2022-paris ( 32 / 83 )\n"
     ]
    },
    {
     "name": "stderr",
     "output_type": "stream",
     "text": [
      "/var/folders/pl/xywgn7qd4sv_s094vn5h3dtr0000gn/T/ipykernel_91391/1438938172.py:74: UserWarning: `keep_geom_type=True` in overlay resulted in 94 dropped geometries of different geometry types than df1 has. Set `keep_geom_type=False` to retain all geometries\n",
      "  filo_lcz = gpd.overlay(gdf_com.filter(\n"
     ]
    },
    {
     "name": "stdout",
     "output_type": "stream",
     "text": [
      "Traitement de la zone  lcz-spot-2022-saint-quentin ( 33 / 83 )\n",
      "Traitement de la zone  lcz-spot-2022-nantes ( 34 / 83 )\n"
     ]
    },
    {
     "name": "stderr",
     "output_type": "stream",
     "text": [
      "/var/folders/pl/xywgn7qd4sv_s094vn5h3dtr0000gn/T/ipykernel_91391/1438938172.py:74: UserWarning: `keep_geom_type=True` in overlay resulted in 21 dropped geometries of different geometry types than df1 has. Set `keep_geom_type=False` to retain all geometries\n",
      "  filo_lcz = gpd.overlay(gdf_com.filter(\n"
     ]
    },
    {
     "name": "stdout",
     "output_type": "stream",
     "text": [
      "Traitement de la zone  lcz-spot-2022-valenciennes ( 35 / 83 )\n"
     ]
    },
    {
     "name": "stderr",
     "output_type": "stream",
     "text": [
      "/var/folders/pl/xywgn7qd4sv_s094vn5h3dtr0000gn/T/ipykernel_91391/1438938172.py:74: UserWarning: `keep_geom_type=True` in overlay resulted in 7 dropped geometries of different geometry types than df1 has. Set `keep_geom_type=False` to retain all geometries\n",
      "  filo_lcz = gpd.overlay(gdf_com.filter(\n"
     ]
    },
    {
     "name": "stdout",
     "output_type": "stream",
     "text": [
      "Traitement de la zone  lcz-spot-2022-besancon ( 36 / 83 )\n",
      "Traitement de la zone  lcz-spot-2022-creil ( 37 / 83 )\n"
     ]
    },
    {
     "name": "stderr",
     "output_type": "stream",
     "text": [
      "/var/folders/pl/xywgn7qd4sv_s094vn5h3dtr0000gn/T/ipykernel_91391/1438938172.py:74: UserWarning: `keep_geom_type=True` in overlay resulted in 2 dropped geometries of different geometry types than df1 has. Set `keep_geom_type=False` to retain all geometries\n",
      "  filo_lcz = gpd.overlay(gdf_com.filter(\n"
     ]
    },
    {
     "name": "stdout",
     "output_type": "stream",
     "text": [
      "Traitement de la zone  lcz-spot-2022-dunkerque ( 38 / 83 )\n"
     ]
    },
    {
     "name": "stderr",
     "output_type": "stream",
     "text": [
      "/var/folders/pl/xywgn7qd4sv_s094vn5h3dtr0000gn/T/ipykernel_91391/1438938172.py:74: UserWarning: `keep_geom_type=True` in overlay resulted in 8 dropped geometries of different geometry types than df1 has. Set `keep_geom_type=False` to retain all geometries\n",
      "  filo_lcz = gpd.overlay(gdf_com.filter(\n"
     ]
    },
    {
     "name": "stdout",
     "output_type": "stream",
     "text": [
      "Traitement de la zone  lcz-spot-2022-chalons-en-champagne ( 39 / 83 )\n"
     ]
    },
    {
     "name": "stderr",
     "output_type": "stream",
     "text": [
      "/var/folders/pl/xywgn7qd4sv_s094vn5h3dtr0000gn/T/ipykernel_91391/1438938172.py:74: UserWarning: `keep_geom_type=True` in overlay resulted in 1 dropped geometries of different geometry types than df1 has. Set `keep_geom_type=False` to retain all geometries\n",
      "  filo_lcz = gpd.overlay(gdf_com.filter(\n"
     ]
    },
    {
     "name": "stdout",
     "output_type": "stream",
     "text": [
      "Traitement de la zone  lcz-spot-2022-melun ( 40 / 83 )\n",
      "Traitement de la zone  lcz-spot-2022-dijon ( 41 / 83 )\n"
     ]
    },
    {
     "name": "stderr",
     "output_type": "stream",
     "text": [
      "/var/folders/pl/xywgn7qd4sv_s094vn5h3dtr0000gn/T/ipykernel_91391/1438938172.py:74: UserWarning: `keep_geom_type=True` in overlay resulted in 2 dropped geometries of different geometry types than df1 has. Set `keep_geom_type=False` to retain all geometries\n",
      "  filo_lcz = gpd.overlay(gdf_com.filter(\n"
     ]
    },
    {
     "name": "stdout",
     "output_type": "stream",
     "text": [
      "Traitement de la zone  lcz-spot-2022-cherbourg ( 42 / 83 )\n"
     ]
    },
    {
     "name": "stderr",
     "output_type": "stream",
     "text": [
      "/var/folders/pl/xywgn7qd4sv_s094vn5h3dtr0000gn/T/ipykernel_91391/1438938172.py:74: UserWarning: `keep_geom_type=True` in overlay resulted in 4 dropped geometries of different geometry types than df1 has. Set `keep_geom_type=False` to retain all geometries\n",
      "  filo_lcz = gpd.overlay(gdf_com.filter(\n"
     ]
    },
    {
     "name": "stdout",
     "output_type": "stream",
     "text": [
      "Traitement de la zone  lcz-spot-2022-rennes ( 43 / 83 )\n"
     ]
    },
    {
     "name": "stderr",
     "output_type": "stream",
     "text": [
      "/var/folders/pl/xywgn7qd4sv_s094vn5h3dtr0000gn/T/ipykernel_91391/1438938172.py:74: UserWarning: `keep_geom_type=True` in overlay resulted in 4 dropped geometries of different geometry types than df1 has. Set `keep_geom_type=False` to retain all geometries\n",
      "  filo_lcz = gpd.overlay(gdf_com.filter(\n"
     ]
    },
    {
     "name": "stdout",
     "output_type": "stream",
     "text": [
      "Traitement de la zone  lcz-spot-2022-avignon ( 44 / 83 )\n"
     ]
    },
    {
     "name": "stderr",
     "output_type": "stream",
     "text": [
      "/var/folders/pl/xywgn7qd4sv_s094vn5h3dtr0000gn/T/ipykernel_91391/1438938172.py:74: UserWarning: `keep_geom_type=True` in overlay resulted in 2 dropped geometries of different geometry types than df1 has. Set `keep_geom_type=False` to retain all geometries\n",
      "  filo_lcz = gpd.overlay(gdf_com.filter(\n"
     ]
    },
    {
     "name": "stdout",
     "output_type": "stream",
     "text": [
      "Traitement de la zone  lcz-spot-2022-henin-carvin ( 45 / 83 )\n"
     ]
    },
    {
     "name": "stderr",
     "output_type": "stream",
     "text": [
      "/var/folders/pl/xywgn7qd4sv_s094vn5h3dtr0000gn/T/ipykernel_91391/1438938172.py:74: UserWarning: `keep_geom_type=True` in overlay resulted in 3 dropped geometries of different geometry types than df1 has. Set `keep_geom_type=False` to retain all geometries\n",
      "  filo_lcz = gpd.overlay(gdf_com.filter(\n"
     ]
    },
    {
     "name": "stdout",
     "output_type": "stream",
     "text": [
      "Traitement de la zone  lcz-spot-2022-lyon ( 46 / 83 )\n"
     ]
    },
    {
     "name": "stderr",
     "output_type": "stream",
     "text": [
      "/var/folders/pl/xywgn7qd4sv_s094vn5h3dtr0000gn/T/ipykernel_91391/1438938172.py:74: UserWarning: `keep_geom_type=True` in overlay resulted in 48 dropped geometries of different geometry types than df1 has. Set `keep_geom_type=False` to retain all geometries\n",
      "  filo_lcz = gpd.overlay(gdf_com.filter(\n"
     ]
    },
    {
     "name": "stdout",
     "output_type": "stream",
     "text": [
      "Traitement de la zone  lcz-spot-2022-toulon ( 47 / 83 )\n"
     ]
    },
    {
     "name": "stderr",
     "output_type": "stream",
     "text": [
      "/var/folders/pl/xywgn7qd4sv_s094vn5h3dtr0000gn/T/ipykernel_91391/1438938172.py:74: UserWarning: `keep_geom_type=True` in overlay resulted in 18 dropped geometries of different geometry types than df1 has. Set `keep_geom_type=False` to retain all geometries\n",
      "  filo_lcz = gpd.overlay(gdf_com.filter(\n"
     ]
    },
    {
     "name": "stdout",
     "output_type": "stream",
     "text": [
      "Traitement de la zone  lcz-spot-2022-la-rochelle ( 48 / 83 )\n"
     ]
    },
    {
     "name": "stderr",
     "output_type": "stream",
     "text": [
      "/var/folders/pl/xywgn7qd4sv_s094vn5h3dtr0000gn/T/ipykernel_91391/1438938172.py:74: UserWarning: `keep_geom_type=True` in overlay resulted in 4 dropped geometries of different geometry types than df1 has. Set `keep_geom_type=False` to retain all geometries\n",
      "  filo_lcz = gpd.overlay(gdf_com.filter(\n"
     ]
    },
    {
     "name": "stdout",
     "output_type": "stream",
     "text": [
      "Traitement de la zone  lcz-spot-2022-boulogne-sur-mer ( 49 / 83 )\n",
      "Traitement de la zone  lcz-spot-2022-beziers ( 50 / 83 )\n"
     ]
    },
    {
     "name": "stderr",
     "output_type": "stream",
     "text": [
      "/var/folders/pl/xywgn7qd4sv_s094vn5h3dtr0000gn/T/ipykernel_91391/1438938172.py:74: UserWarning: `keep_geom_type=True` in overlay resulted in 5 dropped geometries of different geometry types than df1 has. Set `keep_geom_type=False` to retain all geometries\n",
      "  filo_lcz = gpd.overlay(gdf_com.filter(\n"
     ]
    },
    {
     "name": "stdout",
     "output_type": "stream",
     "text": [
      "Traitement de la zone  lcz-spot-2022-limoges ( 51 / 83 )\n"
     ]
    },
    {
     "name": "stderr",
     "output_type": "stream",
     "text": [
      "/var/folders/pl/xywgn7qd4sv_s094vn5h3dtr0000gn/T/ipykernel_91391/1438938172.py:74: UserWarning: `keep_geom_type=True` in overlay resulted in 3 dropped geometries of different geometry types than df1 has. Set `keep_geom_type=False` to retain all geometries\n",
      "  filo_lcz = gpd.overlay(gdf_com.filter(\n"
     ]
    },
    {
     "name": "stdout",
     "output_type": "stream",
     "text": [
      "Traitement de la zone  lcz-spot-2022-perpignan ( 52 / 83 )\n",
      "Traitement de la zone  lcz-spot-2022-tarbes ( 53 / 83 )\n",
      "Traitement de la zone  lcz-spot-2022-chartres ( 54 / 83 )\n"
     ]
    },
    {
     "name": "stderr",
     "output_type": "stream",
     "text": [
      "/var/folders/pl/xywgn7qd4sv_s094vn5h3dtr0000gn/T/ipykernel_91391/1438938172.py:74: UserWarning: `keep_geom_type=True` in overlay resulted in 5 dropped geometries of different geometry types than df1 has. Set `keep_geom_type=False` to retain all geometries\n",
      "  filo_lcz = gpd.overlay(gdf_com.filter(\n"
     ]
    },
    {
     "name": "stdout",
     "output_type": "stream",
     "text": [
      "Traitement de la zone  lcz-spot-2022-lille ( 55 / 83 )\n"
     ]
    },
    {
     "name": "stderr",
     "output_type": "stream",
     "text": [
      "/var/folders/pl/xywgn7qd4sv_s094vn5h3dtr0000gn/T/ipykernel_91391/1438938172.py:74: UserWarning: `keep_geom_type=True` in overlay resulted in 10 dropped geometries of different geometry types than df1 has. Set `keep_geom_type=False` to retain all geometries\n",
      "  filo_lcz = gpd.overlay(gdf_com.filter(\n"
     ]
    },
    {
     "name": "stdout",
     "output_type": "stream",
     "text": [
      "Traitement de la zone  lcz-spot-2022-roanne ( 56 / 83 )\n",
      "Traitement de la zone  lcz-spot-2022-charleville-mezieres ( 57 / 83 )\n",
      "Traitement de la zone  lcz-spot-2022-metz ( 58 / 83 )\n"
     ]
    },
    {
     "name": "stderr",
     "output_type": "stream",
     "text": [
      "/var/folders/pl/xywgn7qd4sv_s094vn5h3dtr0000gn/T/ipykernel_91391/1438938172.py:74: UserWarning: `keep_geom_type=True` in overlay resulted in 2 dropped geometries of different geometry types than df1 has. Set `keep_geom_type=False` to retain all geometries\n",
      "  filo_lcz = gpd.overlay(gdf_com.filter(\n"
     ]
    },
    {
     "name": "stdout",
     "output_type": "stream",
     "text": [
      "Traitement de la zone  lcz-spot-2022-saint-nazaire ( 59 / 83 )\n"
     ]
    },
    {
     "name": "stderr",
     "output_type": "stream",
     "text": [
      "/var/folders/pl/xywgn7qd4sv_s094vn5h3dtr0000gn/T/ipykernel_91391/1438938172.py:74: UserWarning: `keep_geom_type=True` in overlay resulted in 10 dropped geometries of different geometry types than df1 has. Set `keep_geom_type=False` to retain all geometries\n",
      "  filo_lcz = gpd.overlay(gdf_com.filter(\n"
     ]
    },
    {
     "name": "stdout",
     "output_type": "stream",
     "text": [
      "Traitement de la zone  lcz-spot-2022-lorient ( 60 / 83 )\n"
     ]
    },
    {
     "name": "stderr",
     "output_type": "stream",
     "text": [
      "/var/folders/pl/xywgn7qd4sv_s094vn5h3dtr0000gn/T/ipykernel_91391/1438938172.py:74: UserWarning: `keep_geom_type=True` in overlay resulted in 1 dropped geometries of different geometry types than df1 has. Set `keep_geom_type=False` to retain all geometries\n",
      "  filo_lcz = gpd.overlay(gdf_com.filter(\n"
     ]
    },
    {
     "name": "stdout",
     "output_type": "stream",
     "text": [
      "Traitement de la zone  lcz-spot-2022-douai ( 61 / 83 )\n"
     ]
    },
    {
     "name": "stderr",
     "output_type": "stream",
     "text": [
      "/var/folders/pl/xywgn7qd4sv_s094vn5h3dtr0000gn/T/ipykernel_91391/1438938172.py:74: UserWarning: `keep_geom_type=True` in overlay resulted in 5 dropped geometries of different geometry types than df1 has. Set `keep_geom_type=False` to retain all geometries\n",
      "  filo_lcz = gpd.overlay(gdf_com.filter(\n"
     ]
    },
    {
     "name": "stdout",
     "output_type": "stream",
     "text": [
      "Traitement de la zone  lcz-spot-2022-rouen ( 62 / 83 )\n"
     ]
    },
    {
     "name": "stderr",
     "output_type": "stream",
     "text": [
      "/var/folders/pl/xywgn7qd4sv_s094vn5h3dtr0000gn/T/ipykernel_91391/1438938172.py:74: UserWarning: `keep_geom_type=True` in overlay resulted in 24 dropped geometries of different geometry types than df1 has. Set `keep_geom_type=False` to retain all geometries\n",
      "  filo_lcz = gpd.overlay(gdf_com.filter(\n"
     ]
    },
    {
     "name": "stdout",
     "output_type": "stream",
     "text": [
      "Traitement de la zone  lcz-spot-2022-colmar ( 63 / 83 )\n"
     ]
    },
    {
     "name": "stderr",
     "output_type": "stream",
     "text": [
      "/var/folders/pl/xywgn7qd4sv_s094vn5h3dtr0000gn/T/ipykernel_91391/1438938172.py:74: UserWarning: `keep_geom_type=True` in overlay resulted in 11 dropped geometries of different geometry types than df1 has. Set `keep_geom_type=False` to retain all geometries\n",
      "  filo_lcz = gpd.overlay(gdf_com.filter(\n"
     ]
    },
    {
     "name": "stdout",
     "output_type": "stream",
     "text": [
      "Traitement de la zone  lcz-spot-2022-chateauroux ( 64 / 83 )\n",
      "Traitement de la zone  lcz-spot-2022-caen ( 65 / 83 )\n"
     ]
    },
    {
     "name": "stderr",
     "output_type": "stream",
     "text": [
      "/var/folders/pl/xywgn7qd4sv_s094vn5h3dtr0000gn/T/ipykernel_91391/1438938172.py:74: UserWarning: `keep_geom_type=True` in overlay resulted in 8 dropped geometries of different geometry types than df1 has. Set `keep_geom_type=False` to retain all geometries\n",
      "  filo_lcz = gpd.overlay(gdf_com.filter(\n"
     ]
    },
    {
     "name": "stdout",
     "output_type": "stream",
     "text": [
      "Traitement de la zone  lcz-spot-2022-cannes ( 66 / 83 )\n",
      "Traitement de la zone  lcz-spot-2022-poitiers ( 67 / 83 )\n"
     ]
    },
    {
     "name": "stderr",
     "output_type": "stream",
     "text": [
      "/var/folders/pl/xywgn7qd4sv_s094vn5h3dtr0000gn/T/ipykernel_91391/1438938172.py:74: UserWarning: `keep_geom_type=True` in overlay resulted in 1 dropped geometries of different geometry types than df1 has. Set `keep_geom_type=False` to retain all geometries\n",
      "  filo_lcz = gpd.overlay(gdf_com.filter(\n"
     ]
    },
    {
     "name": "stdout",
     "output_type": "stream",
     "text": [
      "Traitement de la zone  lcz-spot-2022-compiegne ( 68 / 83 )\n"
     ]
    },
    {
     "name": "stderr",
     "output_type": "stream",
     "text": [
      "/var/folders/pl/xywgn7qd4sv_s094vn5h3dtr0000gn/T/ipykernel_91391/1438938172.py:74: UserWarning: `keep_geom_type=True` in overlay resulted in 4 dropped geometries of different geometry types than df1 has. Set `keep_geom_type=False` to retain all geometries\n",
      "  filo_lcz = gpd.overlay(gdf_com.filter(\n"
     ]
    },
    {
     "name": "stdout",
     "output_type": "stream",
     "text": [
      "Traitement de la zone  lcz-spot-2022-bayonne ( 69 / 83 )\n"
     ]
    },
    {
     "name": "stderr",
     "output_type": "stream",
     "text": [
      "/var/folders/pl/xywgn7qd4sv_s094vn5h3dtr0000gn/T/ipykernel_91391/1438938172.py:74: UserWarning: `keep_geom_type=True` in overlay resulted in 8 dropped geometries of different geometry types than df1 has. Set `keep_geom_type=False` to retain all geometries\n",
      "  filo_lcz = gpd.overlay(gdf_com.filter(\n"
     ]
    },
    {
     "name": "stdout",
     "output_type": "stream",
     "text": [
      "Traitement de la zone  lcz-spot-2022-niort ( 70 / 83 )\n"
     ]
    },
    {
     "name": "stderr",
     "output_type": "stream",
     "text": [
      "/var/folders/pl/xywgn7qd4sv_s094vn5h3dtr0000gn/T/ipykernel_91391/1438938172.py:74: UserWarning: `keep_geom_type=True` in overlay resulted in 1 dropped geometries of different geometry types than df1 has. Set `keep_geom_type=False` to retain all geometries\n",
      "  filo_lcz = gpd.overlay(gdf_com.filter(\n"
     ]
    },
    {
     "name": "stdout",
     "output_type": "stream",
     "text": [
      "Traitement de la zone  lcz-spot-2022-vannes ( 71 / 83 )\n"
     ]
    },
    {
     "name": "stderr",
     "output_type": "stream",
     "text": [
      "/var/folders/pl/xywgn7qd4sv_s094vn5h3dtr0000gn/T/ipykernel_91391/1438938172.py:74: UserWarning: `keep_geom_type=True` in overlay resulted in 6 dropped geometries of different geometry types than df1 has. Set `keep_geom_type=False` to retain all geometries\n",
      "  filo_lcz = gpd.overlay(gdf_com.filter(\n"
     ]
    },
    {
     "name": "stdout",
     "output_type": "stream",
     "text": [
      "Traitement de la zone  lcz-spot-2022-pau ( 72 / 83 )\n"
     ]
    },
    {
     "name": "stderr",
     "output_type": "stream",
     "text": [
      "/var/folders/pl/xywgn7qd4sv_s094vn5h3dtr0000gn/T/ipykernel_91391/1438938172.py:74: UserWarning: `keep_geom_type=True` in overlay resulted in 13 dropped geometries of different geometry types than df1 has. Set `keep_geom_type=False` to retain all geometries\n",
      "  filo_lcz = gpd.overlay(gdf_com.filter(\n"
     ]
    },
    {
     "name": "stdout",
     "output_type": "stream",
     "text": [
      "Traitement de la zone  lcz-spot-2022-bourges ( 73 / 83 )\n"
     ]
    },
    {
     "name": "stderr",
     "output_type": "stream",
     "text": [
      "/var/folders/pl/xywgn7qd4sv_s094vn5h3dtr0000gn/T/ipykernel_91391/1438938172.py:74: UserWarning: `keep_geom_type=True` in overlay resulted in 2 dropped geometries of different geometry types than df1 has. Set `keep_geom_type=False` to retain all geometries\n",
      "  filo_lcz = gpd.overlay(gdf_com.filter(\n"
     ]
    },
    {
     "name": "stdout",
     "output_type": "stream",
     "text": [
      "Traitement de la zone  lcz-spot-2022-nimes ( 74 / 83 )\n"
     ]
    },
    {
     "name": "stderr",
     "output_type": "stream",
     "text": [
      "/var/folders/pl/xywgn7qd4sv_s094vn5h3dtr0000gn/T/ipykernel_91391/1438938172.py:74: UserWarning: `keep_geom_type=True` in overlay resulted in 23 dropped geometries of different geometry types than df1 has. Set `keep_geom_type=False` to retain all geometries\n",
      "  filo_lcz = gpd.overlay(gdf_com.filter(\n"
     ]
    },
    {
     "name": "stdout",
     "output_type": "stream",
     "text": [
      "Traitement de la zone  lcz-spot-2022-troyes ( 75 / 83 )\n"
     ]
    },
    {
     "name": "stderr",
     "output_type": "stream",
     "text": [
      "/var/folders/pl/xywgn7qd4sv_s094vn5h3dtr0000gn/T/ipykernel_91391/1438938172.py:74: UserWarning: `keep_geom_type=True` in overlay resulted in 9 dropped geometries of different geometry types than df1 has. Set `keep_geom_type=False` to retain all geometries\n",
      "  filo_lcz = gpd.overlay(gdf_com.filter(\n"
     ]
    },
    {
     "name": "stdout",
     "output_type": "stream",
     "text": [
      "Traitement de la zone  lcz-spot-2022-clermont-ferrand ( 76 / 83 )\n"
     ]
    },
    {
     "name": "stderr",
     "output_type": "stream",
     "text": [
      "/var/folders/pl/xywgn7qd4sv_s094vn5h3dtr0000gn/T/ipykernel_91391/1438938172.py:74: UserWarning: `keep_geom_type=True` in overlay resulted in 2 dropped geometries of different geometry types than df1 has. Set `keep_geom_type=False` to retain all geometries\n",
      "  filo_lcz = gpd.overlay(gdf_com.filter(\n"
     ]
    },
    {
     "name": "stdout",
     "output_type": "stream",
     "text": [
      "Traitement de la zone  lcz-spot-2022-arras ( 77 / 83 )\n"
     ]
    },
    {
     "name": "stderr",
     "output_type": "stream",
     "text": [
      "/var/folders/pl/xywgn7qd4sv_s094vn5h3dtr0000gn/T/ipykernel_91391/1438938172.py:74: UserWarning: `keep_geom_type=True` in overlay resulted in 8 dropped geometries of different geometry types than df1 has. Set `keep_geom_type=False` to retain all geometries\n",
      "  filo_lcz = gpd.overlay(gdf_com.filter(\n"
     ]
    },
    {
     "name": "stdout",
     "output_type": "stream",
     "text": [
      "Traitement de la zone  lcz-spot-2022-toulouse ( 78 / 83 )\n"
     ]
    },
    {
     "name": "stderr",
     "output_type": "stream",
     "text": [
      "/var/folders/pl/xywgn7qd4sv_s094vn5h3dtr0000gn/T/ipykernel_91391/1438938172.py:74: UserWarning: `keep_geom_type=True` in overlay resulted in 15 dropped geometries of different geometry types than df1 has. Set `keep_geom_type=False` to retain all geometries\n",
      "  filo_lcz = gpd.overlay(gdf_com.filter(\n"
     ]
    },
    {
     "name": "stdout",
     "output_type": "stream",
     "text": [
      "Traitement de la zone  lcz-spot-2022-chambery ( 79 / 83 )\n",
      "Traitement de la zone  lcz-spot-2022-belfort ( 80 / 83 )\n"
     ]
    },
    {
     "name": "stderr",
     "output_type": "stream",
     "text": [
      "/var/folders/pl/xywgn7qd4sv_s094vn5h3dtr0000gn/T/ipykernel_91391/1438938172.py:74: UserWarning: `keep_geom_type=True` in overlay resulted in 2 dropped geometries of different geometry types than df1 has. Set `keep_geom_type=False` to retain all geometries\n",
      "  filo_lcz = gpd.overlay(gdf_com.filter(\n"
     ]
    },
    {
     "name": "stdout",
     "output_type": "stream",
     "text": [
      "Traitement de la zone  lcz-spot-2022-nice ( 81 / 83 )\n"
     ]
    },
    {
     "name": "stderr",
     "output_type": "stream",
     "text": [
      "/var/folders/pl/xywgn7qd4sv_s094vn5h3dtr0000gn/T/ipykernel_91391/1438938172.py:74: UserWarning: `keep_geom_type=True` in overlay resulted in 9 dropped geometries of different geometry types than df1 has. Set `keep_geom_type=False` to retain all geometries\n",
      "  filo_lcz = gpd.overlay(gdf_com.filter(\n"
     ]
    },
    {
     "name": "stdout",
     "output_type": "stream",
     "text": [
      "Traitement de la zone  lcz-spot-2022-frejus ( 82 / 83 )\n"
     ]
    },
    {
     "name": "stderr",
     "output_type": "stream",
     "text": [
      "/var/folders/pl/xywgn7qd4sv_s094vn5h3dtr0000gn/T/ipykernel_91391/1438938172.py:74: UserWarning: `keep_geom_type=True` in overlay resulted in 8 dropped geometries of different geometry types than df1 has. Set `keep_geom_type=False` to retain all geometries\n",
      "  filo_lcz = gpd.overlay(gdf_com.filter(\n"
     ]
    },
    {
     "name": "stdout",
     "output_type": "stream",
     "text": [
      "Traitement de la zone  lcz-spot-2022-marseille ( 83 / 83 )\n"
     ]
    },
    {
     "name": "stderr",
     "output_type": "stream",
     "text": [
      "/var/folders/pl/xywgn7qd4sv_s094vn5h3dtr0000gn/T/ipykernel_91391/1438938172.py:74: UserWarning: `keep_geom_type=True` in overlay resulted in 44 dropped geometries of different geometry types than df1 has. Set `keep_geom_type=False` to retain all geometries\n",
      "  filo_lcz = gpd.overlay(gdf_com.filter(\n"
     ]
    }
   ],
   "source": [
    "# On créé un dataframe pour stocker les résultats par commune\n",
    "\n",
    "summary_tot_lcz_filo_flat = pd.DataFrame(columns=[\"lcz\",        \"official_c\", # CODE INSEE\n",
    "                                                                    \"surf_com_official\", # Surface globale commune\n",
    "                                                                    \"surf_lcz_group_com\", # Surface commune couverte par un groupe LCZ\n",
    "                                                                    \"surf_id_filo\", # Surface LCZ-FILO dd'une catégorie LCZ\n",
    "                                                                    \"label\", # Nom de la commune\n",
    "                                                                    'ind_w', 'men_w',\n",
    "       'men_pauv_w', 'men_1ind_w', 'men_5ind_w', 'men_prop_w', 'men_fmp_w',\n",
    "       'ind_snv_w', 'men_surf_w', 'men_coll_w', 'men_mais_w', 'log_av45_w',\n",
    "       'log_45_70_w', 'log_70_90_w', 'log_ap90_w', 'log_inc_w', 'log_soc_w',\n",
    "       'ind_0_3_w', 'ind_4_5_w', 'ind_6_10_w', 'ind_11_17_w', 'ind_18_24_w',\n",
    "       'ind_25_39_w', 'ind_40_54_w', 'ind_55_64_w', 'ind_65_79_w', 'ind_80p_w',\n",
    "       'ind_inc_w'])\n",
    "\n",
    "\n",
    "summary_tot_lcz_filo_psdovol = pd.DataFrame(columns=[\"lcz\", \"official_c\", # CODE INSEE\n",
    "                                                                    \"surf_com_official\", # Surface globale commune\n",
    "                                                                    \"surf_lcz_group_com\", # Surface commune couverte par un groupe LCZ\n",
    "                                                                    \"surf_id_filo\", # Surface LCZ-FILO dd'une catégorie LCZ\n",
    "                                                                    \"label\", # Nom de la commune\n",
    "                                                                    'ind_w', 'men_w',\n",
    "       'men_pauv_w', 'men_1ind_w', 'men_5ind_w', 'men_prop_w', 'men_fmp_w',\n",
    "       'ind_snv_w', 'men_surf_w', 'men_coll_w', 'men_mais_w', 'log_av45_w',\n",
    "       'log_45_70_w', 'log_70_90_w', 'log_ap90_w', 'log_inc_w', 'log_soc_w',\n",
    "       'ind_0_3_w', 'ind_4_5_w', 'ind_6_10_w', 'ind_11_17_w', 'ind_18_24_w',\n",
    "       'ind_25_39_w', 'ind_40_54_w', 'ind_55_64_w', 'ind_65_79_w', 'ind_80p_w',\n",
    "       'ind_inc_w'])\n",
    "\n",
    "for i in range(len(lcz_folders)):\n",
    "\n",
    "    print(\"Traitement de la zone \", lcz_folders[i], \"(\", i+1, \"/\", len(lcz_folders), \")\")\n",
    "\n",
    "    # On charge le fichier\n",
    "    files = os.listdir(os.path.join(download_dir, subfold_lcz,lcz_folders[i]))\n",
    "    file = [f for f in files if f.endswith(\".shp\")][0]\n",
    "    gdf = gpd.read_file(os.path.join(download_dir, subfold_lcz, lcz_folders[i], file))\n",
    "\n",
    "    # On dissout pour obtenir le polygone de la zone\n",
    "    gdf_zone = gdf.dissolve()\n",
    "    # On fait une jointure spatiale avec le fichier des communes\n",
    "    communes_lcz = communes.sjoin(gdf_zone, how=\"inner\")\n",
    "    # On récupère les codes officiels des communes qui sont dans la zone\n",
    "    codes = communes_lcz.official_c.unique()\n",
    "\n",
    "\n",
    "    # On calcule l'aire de chaque commune\n",
    "    communes_lcz[\"surf_com_official\"] = communes_lcz.area/10**6\n",
    "\n",
    "\n",
    "    # On joint à la table des communes et on calcule la part de la commune dans la zone\n",
    "    communes_in_lcz = communes[communes[\"official_c\"].isin(codes)].merge(communes_lcz.filter(items=[\"official_c\",\"surf_com_official\"]), on=\"official_c\", how=\"left\")\n",
    "    communes_in_lcz = communes_in_lcz.filter(items=[\"official_c\",\"surf_com_official\",\"geometry\",\"label\"])\n",
    "\n",
    "    # On divise les zones LCZ par commune\n",
    "    gdf_com = gdf.overlay(communes_in_lcz, how=\"intersection\")\n",
    "    # on calcule la surface de chaque polygone\n",
    "    gdf_com[\"surf_lcz_id_com\"] = gdf_com.area/10**6\n",
    "\n",
    "    # On calcule la surface LCZ par commune\n",
    "    gdf_surf_com = (gdf_com\n",
    "                    .filter(items=[\"official_c\",\"surf_lcz_id_com\",\"lcz\"])\n",
    "                    .groupby([\"official_c\",\"lcz\"]).sum().reset_index())\n",
    "\n",
    "    gdf_surf_com = gdf_surf_com.rename(columns={\"surf_lcz_id_com\":\"surf_lcz_group_com\"})\n",
    "    gdf_com = gdf_com.merge(gdf_surf_com, on=[\"official_c\",\"lcz\"],how=\"left\")\n",
    "\n",
    "\n",
    "    # On effectue la fusion avec les données FILOSOFI\n",
    "    ## On commence par ne conserver que l'id du carreau, la superficie et la géometrie\n",
    "    filo_geo = filosofi.filter(items=[\"geometry\",\"idcar_200m\"])\n",
    "\n",
    "    # On joint les données FILOSOFI par un overlay\n",
    "    filo_lcz = gpd.overlay(gdf_com.filter(\n",
    "        items=[\"lcz\",\"geometry\",\"hre\",\"bur\",\"official_c\",\"label\",\"surf_lcz_id_com\",\"surf_lcz_group_com\",\"surf_com_official\"]), \n",
    "        filo_geo, how=\"intersection\")\n",
    "\n",
    "\n",
    "    # H : On augmente la hauteur moyenne mini à 4m pour les zones résidentielles si la valeur est égale à 0 \n",
    "    # (une valeur de 0 semble illogique et a également pour effet de supprimer la donnée lors de la pondération)\n",
    "    filo_lcz.loc[\n",
    "        (filo_lcz[\"hre\"] == 0) & (filo_lcz[\"lcz\"].isin([\"1\", \"2\", \"3\", \"4\", \"5\", \"6\", \"7\", \"8\", \"9\"])),\n",
    "        \"hre\"\n",
    "    ] = 4\n",
    "\n",
    "    # On calcule la surface de chaque polygone\n",
    "    filo_lcz[\"surf_id_filo\"] = filo_lcz.geometry.area/10**6\n",
    "    # On calcule le pseudo-volume de chaque polygone\n",
    "    # H : On fait une hyothèse de hauteur de 3m pour les classes A à G (le minimum observé pour LCZ = 9) \n",
    "    # et de densité de 1% (soit 10% de moins que classe 9)// C'est une hypothèse\n",
    "    filo_lcz[\"pseudovol_id_filo\"] = (filo_lcz[\"surf_id_filo\"]*filo_lcz[\"hre\"]*filo_lcz[\"bur\"] \n",
    "                                    * (1-filo_lcz[\"lcz\"].isin([\"A\",\"B\",\"C\",\"D\",\"E\",\"F\",\"G\"])) \n",
    "                                    + filo_lcz[\"lcz\"].isin([\"A\",\"B\",\"C\",\"D\",\"E\",\"F\",\"G\"])\n",
    "                                    * filo_lcz[\"surf_id_filo\"]*3*1)\n",
    "\n",
    "    ## On présente le découpage de chaque carreau filo en LCZ\n",
    "    filo_lcz_surf = (filo_lcz\n",
    "                    .filter(items=[\"lcz\",\"idcar_200m\",\"surf_id_filo\",\"pseudovol_id_filo\",\"label\",\"official_c\"])\n",
    "                    .groupby([\"idcar_200m\",\"lcz\"])\n",
    "                    .sum()\n",
    "                    .reset_index()\n",
    "                    .pivot_table(index=\"idcar_200m\", \n",
    "                                columns=\"lcz\", \n",
    "                                values=[\"surf_id_filo\",\"pseudovol_id_filo\"], \n",
    "                                fill_value=0)\n",
    "                    .reset_index())\n",
    "    filo_lcz_surf[\"surf_filo\"] = sum([filo_lcz_surf[col] \n",
    "                                    for col in filo_lcz_surf.columns \n",
    "                                    if col[0] == \"surf_id_filo\"])\n",
    "    filo_lcz_surf[\"pseudovol_filo\"] = sum([filo_lcz_surf[col] \n",
    "                                        for col in filo_lcz_surf.columns \n",
    "                                        if col[0] == \"pseudovol_id_filo\"])\n",
    "\n",
    "\n",
    "\n",
    "    ## On calcule la surface totale de chaque carreau\n",
    "    filo_lcz_surf[\"surf_non_constructed\"] = sum([filo_lcz_surf[col] for col in filo_lcz_surf.columns if col[0]== \"surf_id_filo\" and col[1] in [\"A\",\"B\",\"C\",\"D\",\"E\",\"F\",\"G\"]])\n",
    "    filo_lcz_surf[\"pseudovol_non_constructed\"] = sum([filo_lcz_surf[col] for col in filo_lcz_surf.columns if col[0]== \"pseudovol_id_filo\" and col[1] in [\"A\",\"B\",\"C\",\"D\",\"E\",\"F\",\"G\"]])\n",
    "    filo_lcz_surf[\"filo_not_constructed\"] = (filo_lcz_surf[\"surf_filo\"] - filo_lcz_surf[\"surf_non_constructed\"]) == 0\n",
    "    filo_lcz_surf[\"filo_sub_flat\"] = filo_lcz_surf[\"filo_not_constructed\"] * filo_lcz_surf[\"surf_filo\"] + (1 - filo_lcz_surf[\"filo_not_constructed\"]) * (filo_lcz_surf[\"surf_filo\"]- filo_lcz_surf[\"surf_non_constructed\"])\n",
    "    # H: On assigne une hauteur de 3m aux surfaces non construites et un taux d'occupation de 1%\n",
    "    filo_lcz_surf[\"filo_sub_psdovol\"] =  filo_lcz_surf[\"filo_not_constructed\"] * filo_lcz_surf[\"pseudovol_filo\"] + (1 - filo_lcz_surf[\"filo_not_constructed\"]) * (filo_lcz_surf[\"pseudovol_filo\"] - filo_lcz_surf[\"pseudovol_non_constructed\"])\n",
    "    ## On garde la table de conversion\n",
    "    to_drop = ['surf_id_filo', 'pseudovol_id_filo']\n",
    "    conversion_table =filo_lcz_surf.drop(columns=filo_lcz_surf.columns[filo_lcz_surf.columns.get_level_values(0).isin(to_drop)])\n",
    "    conversion_table.columns = conversion_table.columns.droplevel(1)\n",
    "\n",
    "    # On fusionnes les carreaux FILO/LCZ avec la table des poids de conversion des données FILO\n",
    "    filo_lcz_w = filo_lcz.merge(conversion_table, on=\"idcar_200m\", how=\"left\")\n",
    "\n",
    "    # On crée une varible binaire pour savoir si le carreau est compté \n",
    "    # H :(on compte les classes non baties lorsque pas de classes baties dans le carreau FILO)\n",
    "    filo_lcz_w['is_accounted'] = (filo_lcz_w[\"lcz\"].isin([\"1\",\"2\",\"3\",\"4\",\"5\",\"6\",\"7\",\"8\",\"9\"])) | filo_lcz_w[\"filo_not_constructed\"]\n",
    "    # On calcule le facteur de pondération pour chaque zone\n",
    "    filo_lcz_w[\"flat_w_filo\"]= (filo_lcz_w[\"surf_id_filo\"]/filo_lcz_w[\"filo_sub_flat\"])* filo_lcz_w[\"is_accounted\"]\n",
    "    filo_lcz_w[\"pseudovol_w_filo\"]= (filo_lcz_w[\"pseudovol_id_filo\"]/filo_lcz_w[\"filo_sub_psdovol\"])* filo_lcz_w[\"is_accounted\"]\n",
    "\n",
    "    # On fusionne les carreaux et les données FILOSOFI\n",
    "    filo_lcz_values = filo_lcz_w.merge(filosofi.drop(columns=[\"geometry\",\n",
    "                                        \"idcar_1km\",\n",
    "                                        \"idcar_nat\",\n",
    "                                        \"i_est_200\",\n",
    "                                        \"i_est_1km\",\n",
    "                                        \"lcog_geo\"]),\n",
    "                    on=\"idcar_200m\",\n",
    "                    how=\"left\")\n",
    "\n",
    "    # On calcule les valeurs avec les poids \"plats\"\n",
    "    filo_lcz_values_flat= weighted_filo(filo_lcz_values,\"flat_w_filo\",[\n",
    "        'ind', 'men', 'men_pauv', 'men_1ind', 'men_5ind',\n",
    "        'men_prop', 'men_fmp', 'ind_snv', 'men_surf', 'men_coll', 'men_mais',\n",
    "        'log_av45', 'log_45_70', 'log_70_90', 'log_ap90', 'log_inc', 'log_soc',\n",
    "        'ind_0_3', 'ind_4_5', 'ind_6_10', 'ind_11_17', 'ind_18_24', 'ind_25_39',\n",
    "        'ind_40_54', 'ind_55_64', 'ind_65_79', 'ind_80p', 'ind_inc',\n",
    "    ])\n",
    "    filo_lcz_values_flat.to_file(os.path.join(prod_dir, \"geo/lcz/filo_com\",''.join([lcz_folders[i],\"-flat-FILO.geojson\"])), driver='GeoJSON')\n",
    "\n",
    "    # Calcul du résumé des valeurs par LCZ par commune\n",
    "    summary_lcz_filo_flat = filo_lcz_values_flat.filter(items=[\"lcz\", # Code LCZ\n",
    "                                                                    \"official_c\", # CODE INSEE\n",
    "                                                                    \"surf_com_official\", # Surface globale commune\n",
    "                                                                    \"surf_lcz_group_com\", # Surface commune couverte par un groupe LCZ\n",
    "                                                                    \"surf_id_filo\", # Surface LCZ-FILO dd'une catégorie LCZ\n",
    "                                                                    \"label\", # Nom de la commune\n",
    "                                                                    'ind_w', 'men_w',\n",
    "        'men_pauv_w', 'men_1ind_w', 'men_5ind_w', 'men_prop_w', 'men_fmp_w',\n",
    "        'ind_snv_w', 'men_surf_w', 'men_coll_w', 'men_mais_w', 'log_av45_w',\n",
    "        'log_45_70_w', 'log_70_90_w', 'log_ap90_w', 'log_inc_w', 'log_soc_w',\n",
    "        'ind_0_3_w', 'ind_4_5_w', 'ind_6_10_w', 'ind_11_17_w', 'ind_18_24_w',\n",
    "        'ind_25_39_w', 'ind_40_54_w', 'ind_55_64_w', 'ind_65_79_w', 'ind_80p_w',\n",
    "        'ind_inc_w']).groupby([\"lcz\",\"official_c\",\"label\",\"surf_com_official\",\"surf_lcz_group_com\"]).sum().reset_index()\n",
    "\n",
    "    summary_tot_lcz_filo_flat = pd.concat([summary_tot_lcz_filo_flat, summary_lcz_filo_flat])\n",
    "\n",
    "    # On calcule les valeurs avec les poids \"volumiques\"\n",
    "    filo_lcz_values_psdovol= weighted_filo(filo_lcz_values,\"pseudovol_w_filo\",[\n",
    "        'ind', 'men', 'men_pauv', 'men_1ind', 'men_5ind',\n",
    "        'men_prop', 'men_fmp', 'ind_snv', 'men_surf', 'men_coll', 'men_mais',\n",
    "        'log_av45', 'log_45_70', 'log_70_90', 'log_ap90', 'log_inc', 'log_soc',\n",
    "        'ind_0_3', 'ind_4_5', 'ind_6_10', 'ind_11_17', 'ind_18_24', 'ind_25_39',\n",
    "        'ind_40_54', 'ind_55_64', 'ind_65_79', 'ind_80p', 'ind_inc',\n",
    "    ])\n",
    "    filo_lcz_values_psdovol.to_file(os.path.join(prod_dir, \"geo/lcz/filo_com\",''.join([lcz_folders[i],\"-psdovol-FILO.geojson\"])), driver='GeoJSON')\n",
    "\n",
    "    # Calcul du résumé des valeurs par LCZ par commune\n",
    "    summary_lcz_filo_psdovol = filo_lcz_values_psdovol.filter(items=[\"lcz\", # Code LCZ\n",
    "                                                                    \"official_c\", # CODE INSEE\n",
    "                                                                    \"surf_com_official\", # Surface globale commune\n",
    "                                                                    \"surf_lcz_group_com\", # Surface commune couverte par un groupe LCZ\n",
    "                                                                    \"surf_id_filo\", # Surface LCZ-FILO dd'une catégorie LCZ\n",
    "                                                                    \"label\", # Nom de la commune\n",
    "                                                                    'ind_w', 'men_w',\n",
    "        'men_pauv_w', 'men_1ind_w', 'men_5ind_w', 'men_prop_w', 'men_fmp_w',\n",
    "        'ind_snv_w', 'men_surf_w', 'men_coll_w', 'men_mais_w', 'log_av45_w',\n",
    "        'log_45_70_w', 'log_70_90_w', 'log_ap90_w', 'log_inc_w', 'log_soc_w',\n",
    "        'ind_0_3_w', 'ind_4_5_w', 'ind_6_10_w', 'ind_11_17_w', 'ind_18_24_w',\n",
    "        'ind_25_39_w', 'ind_40_54_w', 'ind_55_64_w', 'ind_65_79_w', 'ind_80p_w',\n",
    "        'ind_inc_w']).groupby([\"lcz\",\"official_c\",\"label\",\"surf_com_official\",\"surf_lcz_group_com\"]).sum().reset_index()\n",
    "\n",
    "    summary_tot_lcz_filo_psdovol = pd.concat([summary_tot_lcz_filo_psdovol, summary_lcz_filo_psdovol])\n",
    "\n",
    "# Sauvegarder des résultats globaux\n",
    "summary_tot_lcz_filo_psdovol.to_csv(os.path.join(prod_dir, \"geo/lcz\",'summary_tot_lcz_filo_psdovol.csv'), index=False)\n",
    "summary_tot_lcz_filo_flat.to_csv(os.path.join(prod_dir, \"geo/lcz\",'summary_tot_lcz_filo_flat.csv'), index=False)"
   ]
  }
 ],
 "metadata": {
  "kernelspec": {
   "display_name": "venv",
   "language": "python",
   "name": "venv"
  },
  "language_info": {
   "codemirror_mode": {
    "name": "ipython",
    "version": 3
   },
   "file_extension": ".py",
   "mimetype": "text/x-python",
   "name": "python",
   "nbconvert_exporter": "python",
   "pygments_lexer": "ipython3",
   "version": "3.9.6"
  }
 },
 "nbformat": 4,
 "nbformat_minor": 2
}
